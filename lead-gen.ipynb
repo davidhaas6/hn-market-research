{
 "cells": [
  {
   "cell_type": "markdown",
   "metadata": {},
   "source": [
    "# Generating leads from HN posts and comments\n"
   ]
  },
  {
   "cell_type": "code",
   "execution_count": 2,
   "metadata": {},
   "outputs": [
    {
     "name": "stderr",
     "output_type": "stream",
     "text": [
      "c:\\Users\\David\\Documents\\Projects\\hn-analysis\\venv\\lib\\site-packages\\tqdm\\auto.py:21: TqdmWarning: IProgress not found. Please update jupyter and ipywidgets. See https://ipywidgets.readthedocs.io/en/stable/user_install.html\n",
      "  from .autonotebook import tqdm as notebook_tqdm\n"
     ]
    }
   ],
   "source": [
    "from datasets import load_dataset\n",
    "import pandas as pd\n",
    "from tqdm.auto import tqdm"
   ]
  },
  {
   "cell_type": "code",
   "execution_count": 3,
   "metadata": {},
   "outputs": [
    {
     "data": {
      "text/html": [
       "<div>\n",
       "<style scoped>\n",
       "    .dataframe tbody tr th:only-of-type {\n",
       "        vertical-align: middle;\n",
       "    }\n",
       "\n",
       "    .dataframe tbody tr th {\n",
       "        vertical-align: top;\n",
       "    }\n",
       "\n",
       "    .dataframe thead th {\n",
       "        text-align: right;\n",
       "    }\n",
       "</style>\n",
       "<table border=\"1\" class=\"dataframe\">\n",
       "  <thead>\n",
       "    <tr style=\"text-align: right;\">\n",
       "      <th></th>\n",
       "      <th>id</th>\n",
       "      <th>type</th>\n",
       "      <th>by</th>\n",
       "      <th>time</th>\n",
       "      <th>title</th>\n",
       "      <th>text</th>\n",
       "      <th>url</th>\n",
       "      <th>score</th>\n",
       "      <th>parent</th>\n",
       "      <th>top_level_parent</th>\n",
       "      <th>descendants</th>\n",
       "      <th>kids</th>\n",
       "      <th>deleted</th>\n",
       "      <th>dead</th>\n",
       "    </tr>\n",
       "  </thead>\n",
       "  <tbody>\n",
       "    <tr>\n",
       "      <th>1999997</th>\n",
       "      <td>40813382</td>\n",
       "      <td>comment</td>\n",
       "      <td>pavon</td>\n",
       "      <td>2024-06-27 18:15:13</td>\n",
       "      <td>None</td>\n",
       "      <td>proto2 allowed both required fields and option...</td>\n",
       "      <td>None</td>\n",
       "      <td>NaN</td>\n",
       "      <td>40812948.0</td>\n",
       "      <td>40798740</td>\n",
       "      <td>NaN</td>\n",
       "      <td>[40813554, 40816081]</td>\n",
       "      <td>None</td>\n",
       "      <td>None</td>\n",
       "    </tr>\n",
       "    <tr>\n",
       "      <th>1999998</th>\n",
       "      <td>40813383</td>\n",
       "      <td>comment</td>\n",
       "      <td>ju-st</td>\n",
       "      <td>2024-06-27 18:15:15</td>\n",
       "      <td>None</td>\n",
       "      <td>Sorry I wasn&amp;#x27;t talking about density but ...</td>\n",
       "      <td>None</td>\n",
       "      <td>NaN</td>\n",
       "      <td>40811561.0</td>\n",
       "      <td>40803783</td>\n",
       "      <td>NaN</td>\n",
       "      <td>None</td>\n",
       "      <td>None</td>\n",
       "      <td>None</td>\n",
       "    </tr>\n",
       "    <tr>\n",
       "      <th>1999999</th>\n",
       "      <td>40813384</td>\n",
       "      <td>story</td>\n",
       "      <td>belter</td>\n",
       "      <td>2024-06-27 18:15:16</td>\n",
       "      <td>Astronauts take shelter in Starliner, other sp...</td>\n",
       "      <td>None</td>\n",
       "      <td>https://www.space.com/iss-astronauts-shelter-r...</td>\n",
       "      <td>130.0</td>\n",
       "      <td>NaN</td>\n",
       "      <td>40813384</td>\n",
       "      <td>130.0</td>\n",
       "      <td>[40813633, 40815312, 40813760, 40813850, 40816...</td>\n",
       "      <td>None</td>\n",
       "      <td>None</td>\n",
       "    </tr>\n",
       "  </tbody>\n",
       "</table>\n",
       "</div>"
      ],
      "text/plain": [
       "               id     type      by                time  \\\n",
       "1999997  40813382  comment   pavon 2024-06-27 18:15:13   \n",
       "1999998  40813383  comment   ju-st 2024-06-27 18:15:15   \n",
       "1999999  40813384    story  belter 2024-06-27 18:15:16   \n",
       "\n",
       "                                                     title  \\\n",
       "1999997                                               None   \n",
       "1999998                                               None   \n",
       "1999999  Astronauts take shelter in Starliner, other sp...   \n",
       "\n",
       "                                                      text  \\\n",
       "1999997  proto2 allowed both required fields and option...   \n",
       "1999998  Sorry I wasn&#x27;t talking about density but ...   \n",
       "1999999                                               None   \n",
       "\n",
       "                                                       url  score      parent  \\\n",
       "1999997                                               None    NaN  40812948.0   \n",
       "1999998                                               None    NaN  40811561.0   \n",
       "1999999  https://www.space.com/iss-astronauts-shelter-r...  130.0         NaN   \n",
       "\n",
       "         top_level_parent  descendants  \\\n",
       "1999997          40798740          NaN   \n",
       "1999998          40803783          NaN   \n",
       "1999999          40813384        130.0   \n",
       "\n",
       "                                                      kids deleted  dead  \n",
       "1999997                               [40813554, 40816081]    None  None  \n",
       "1999998                                               None    None  None  \n",
       "1999999  [40813633, 40815312, 40813760, 40813850, 40816...    None  None  "
      ]
     },
     "execution_count": 3,
     "metadata": {},
     "output_type": "execute_result"
    }
   ],
   "source": [
    "# df = pd.read_parquet('hf://datasets/OpenPipe/hacker-news')\n",
    "ds = load_dataset(\"OpenPipe/hacker-news\") # streaming=True\n",
    "df = pd.DataFrame(ds['train'][-3_000_000:-1_000_000])\n",
    "\n",
    "stories = df[df.type == 'story']\n",
    "comments = df[df.type == 'comment']\n",
    "\n",
    "df.tail(3)"
   ]
  },
  {
   "cell_type": "code",
   "execution_count": null,
   "metadata": {},
   "outputs": [],
   "source": []
  }
 ],
 "metadata": {
  "kernelspec": {
   "display_name": "venv",
   "language": "python",
   "name": "python3"
  },
  "language_info": {
   "codemirror_mode": {
    "name": "ipython",
    "version": 3
   },
   "file_extension": ".py",
   "mimetype": "text/x-python",
   "name": "python",
   "nbconvert_exporter": "python",
   "pygments_lexer": "ipython3",
   "version": "3.9.21"
  }
 },
 "nbformat": 4,
 "nbformat_minor": 2
}
